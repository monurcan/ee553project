{
 "cells": [
  {
   "cell_type": "markdown",
   "metadata": {},
   "source": [
    "experiment configs"
   ]
  },
  {
   "cell_type": "code",
   "execution_count": 176,
   "metadata": {},
   "outputs": [],
   "source": [
    "from dataclasses import dataclass\n",
    "\n",
    "@dataclass\n",
    "class ExperimentConfig:\n",
    "    real_A: bool\n",
    "\n",
    "config = ExperimentConfig(real_A=False)"
   ]
  },
  {
   "cell_type": "markdown",
   "metadata": {},
   "source": [
    "utils"
   ]
  },
  {
   "cell_type": "code",
   "execution_count": 177,
   "metadata": {},
   "outputs": [],
   "source": [
    "import cvxpy as cp\n",
    "import numpy as np\n",
    "import matplotlib.pyplot as plt\n",
    "import cv2\n",
    "from scipy import misc\n",
    "import itertools\n",
    "from datasets import load_dataset\n",
    "from skimage.metrics import structural_similarity as ssim\n",
    "from numpy import linalg as LA\n",
    "\n",
    "dataset = load_dataset(\"mnist\")\n",
    "\n",
    "# Load one of the example images from scipy\n",
    "example_image = np.array(dataset[\"train\"][1][\"image\"])\n",
    "example_image_resized = cv2.resize(example_image, (7, 7))\n",
    "example_image_resized = example_image_resized / (255.0)\n",
    "\n",
    "# Get the dimensions of the resized image\n",
    "h, w = example_image_resized.shape\n",
    "\n",
    "# Set oversampling factor\n",
    "oversampling_factor = 2\n",
    "\n",
    "# Generate the matrix A\n",
    "n = w * h  # n is based on the width * height of the resized image\n",
    "\n",
    "# Generate oversampled FFT matrix with zero-padding\n",
    "# reconstruct the matrix corresponding to the oversampled FFT operation\n",
    "# which will have size (n*oversampling_factor^2)xn\n",
    "A = np.zeros((oversampling_factor**2 * n, n), dtype=complex)\n",
    "for j in range(n):\n",
    "    basis_vector = np.zeros(n)\n",
    "    basis_vector[j] = 1\n",
    "    \n",
    "    # get the FFT of the basis vector\n",
    "    basis_vector_fft = np.fft.fft2(basis_vector.reshape((h, w)), (oversampling_factor * h, oversampling_factor * w), norm=\"ortho\")\n",
    "    A[:, j] = basis_vector_fft.flatten()\n",
    "if config.real_A:\n",
    "    A.imag = 0\n",
    "\n",
    "# Apply oversampled FFT to the resized example image\n",
    "# y = np.abs(np.fft.fft2(example_image_resized, (oversampling_factor * h, oversampling_factor * w), norm=\"ortho\"))**2\n",
    "y = np.abs(A @ example_image_resized.reshape(-1, 1))**2\n",
    "\n",
    "# A_func = lambda x: np.fft.fft2(x.reshape((h, w)), (oversampling_factor * h, oversampling_factor * w), norm=\"ortho\")\n",
    "# Ainv_func = lambda x: np.fft.ifft2(x.reshape((oversampling_factor * h, oversampling_factor * w)), norm=\"ortho\")"
   ]
  },
  {
   "cell_type": "code",
   "execution_count": 178,
   "metadata": {},
   "outputs": [],
   "source": [
    "def polar_convert(b,p):\n",
    "    r = b * np.cos(p)\n",
    "    im = b * np.sin(p)\n",
    "    return (r + 1j* im)"
   ]
  },
  {
   "cell_type": "code",
   "execution_count": 179,
   "metadata": {},
   "outputs": [],
   "source": [
    "import numpy as np\n",
    "from scipy.ndimage import shift\n",
    "from sklearn.metrics import mean_squared_error\n",
    "\n",
    "def find_optimal_shift(target, B):\n",
    "    best_shift = (0,0)\n",
    "    min_mse = 9999\n",
    "\n",
    "    for (i, j) in itertools.product(range(target.shape[0]), range(target.shape[1])):  # considering all possible circular shifts\n",
    "        shifted_B = np.roll(B, shift=(i, j), axis=(0, 1))\n",
    "        mse = mean_squared_error(target.flatten(), shifted_B.flatten())\n",
    "        if mse < min_mse:\n",
    "            min_mse = mse\n",
    "            best_shift = (i, j)\n",
    "\n",
    "    # Apply the optimal shift to array B\n",
    "    optimal_shifted_B = np.roll(B, shift=best_shift, axis=(0, 1))\n",
    "    return optimal_shifted_B"
   ]
  },
  {
   "cell_type": "code",
   "execution_count": 180,
   "metadata": {},
   "outputs": [],
   "source": [
    "def compare_images(example_image_resized_, reconstructed_image_, method):\n",
    "    plt.figure(figsize=(10, 5))\n",
    "    plt.suptitle(f'Image Comparison for {method} Method')  # Added suptitle\n",
    "    plt.subplot(1, 2, 1), plt.imshow(example_image_resized_, cmap='gray'), plt.title('Original Image')\n",
    "    plt.subplot(1, 2, 2), plt.imshow(reconstructed_image_, cmap='gray'), plt.title('Reconstruction')\n",
    "    plt.show()\n",
    "\n",
    "    correlation = np.corrcoef(example_image_resized_.flatten(), reconstructed_image_.flatten())[0, 1]\n",
    "    print(f'Correlation between the original image and reconstruction: {correlation}')\n",
    "    # MSE\n",
    "    mse = np.mean((example_image_resized_.flatten() - reconstructed_image_.flatten())**2)\n",
    "    print(f'MSE between the original image and reconstruction: {mse}')\n",
    "    # PSNR\n",
    "    psnr = 10 * np.log10(1 / mse)\n",
    "    print(f'PSNR between the original image and reconstruction: {psnr}')\n",
    "    # SSIM\n",
    "    ssim_ = ssim(example_image_resized_, reconstructed_image_)\n",
    "    print(f'SSIM between the original image and reconstruction: {ssim_}')"
   ]
  },
  {
   "cell_type": "markdown",
   "metadata": {},
   "source": [
    "phaselift"
   ]
  },
  {
   "cell_type": "code",
   "execution_count": 181,
   "metadata": {},
   "outputs": [],
   "source": [
    "def phaselift(W, A_, y_):\n",
    "    X = cp.Variable((n, n), symmetric=True)\n",
    "    objective = cp.Minimize(cp.trace(W @ X))\n",
    "    constraints = [X >> 0]\n",
    "    constraints += [\n",
    "        y_[i] == A_[i, :].reshape(1, -1).conj() @ X @ A_[i, :].reshape(-1, 1)\n",
    "        for i in range(y_.shape[0])\n",
    "    ]\n",
    "    # constraints += [\n",
    "    #     y_[i] == cp.trace(A_[i, :].reshape(-1, 1) @ A_[i, :].reshape(1, -1).conj() @ X)\n",
    "    #     for i in range(y_.shape[0])\n",
    "    # ]\n",
    "\n",
    "    problem = cp.Problem(objective, constraints)\n",
    "    problem.solve(solver=cp.MOSEK, verbose=True, mosek_params={'MSK_IPAR_INTPNT_SOLVE_FORM': 'MSK_SOLVE_DUAL'})\n",
    "    return X.value\n",
    "    \n",
    "def iterative_phaselift(A_, y_, k, eps):\n",
    "    W = np.eye(n)\n",
    "    for i in range(k):\n",
    "        X = phaselift(W, A_, y_)\n",
    "        _, V = LA.eigh(X)\n",
    "        W = np.linalg.inv(X+eps*np.eye(n))\n",
    "    return(X)"
   ]
  },
  {
   "cell_type": "code",
   "execution_count": 182,
   "metadata": {},
   "outputs": [
    {
     "name": "stdout",
     "output_type": "stream",
     "text": [
      "===============================================================================\n",
      "                                     CVXPY                                     \n",
      "                                     v1.4.1                                    \n",
      "===============================================================================\n",
      "(CVXPY) Dec 23 06:45:45 PM: Your problem has 2401 variables, 197 constraints, and 0 parameters.\n",
      "(CVXPY) Dec 23 06:45:45 PM: It is compliant with the following grammars: DCP, DQCP\n",
      "(CVXPY) Dec 23 06:45:45 PM: (If you need to solve this problem multiple times, but with different data, consider using parameters.)\n",
      "(CVXPY) Dec 23 06:45:45 PM: CVXPY will first compile your problem; then, it will invoke a numerical solver to obtain a solution.\n",
      "(CVXPY) Dec 23 06:45:45 PM: Your problem is compiled with the CPP canonicalization backend.\n",
      "-------------------------------------------------------------------------------\n",
      "                                  Compilation                                  \n",
      "-------------------------------------------------------------------------------\n",
      "(CVXPY) Dec 23 06:45:45 PM: Compiling problem (target solver=MOSEK).\n",
      "(CVXPY) Dec 23 06:45:45 PM: Reduction chain: Complex2Real -> Dcp2Cone -> CvxAttr2Constr -> ConeMatrixStuffing -> MOSEK\n",
      "(CVXPY) Dec 23 06:45:45 PM: Applying reduction Complex2Real\n",
      "(CVXPY) Dec 23 06:45:45 PM: Applying reduction Dcp2Cone\n",
      "(CVXPY) Dec 23 06:45:45 PM: Applying reduction CvxAttr2Constr\n",
      "(CVXPY) Dec 23 06:45:45 PM: Applying reduction ConeMatrixStuffing\n",
      "(CVXPY) Dec 23 06:45:45 PM: Applying reduction MOSEK\n",
      "(CVXPY) Dec 23 06:45:46 PM: Finished problem compilation (took 1.168e+00 seconds).\n",
      "-------------------------------------------------------------------------------\n",
      "                                Numerical solver                               \n",
      "-------------------------------------------------------------------------------\n",
      "(CVXPY) Dec 23 06:45:46 PM: Invoking solver MOSEK  to obtain a solution.\n",
      "\n",
      "\n",
      "(CVXPY) Dec 23 06:45:46 PM: Problem\n",
      "(CVXPY) Dec 23 06:45:46 PM:   Name                   :                 \n",
      "(CVXPY) Dec 23 06:45:46 PM:   Objective sense        : maximize        \n",
      "(CVXPY) Dec 23 06:45:46 PM:   Type                   : CONIC (conic optimization problem)\n",
      "(CVXPY) Dec 23 06:45:46 PM:   Constraints            : 1225            \n",
      "(CVXPY) Dec 23 06:45:46 PM:   Affine conic cons.     : 0               \n",
      "(CVXPY) Dec 23 06:45:46 PM:   Disjunctive cons.      : 0               \n",
      "(CVXPY) Dec 23 06:45:46 PM:   Cones                  : 0               \n",
      "(CVXPY) Dec 23 06:45:46 PM:   Scalar variables       : 392             \n",
      "(CVXPY) Dec 23 06:45:46 PM:   Matrix variables       : 1 (scalarized: 1225)\n",
      "(CVXPY) Dec 23 06:45:46 PM:   Integer variables      : 0               \n",
      "(CVXPY) Dec 23 06:45:46 PM: \n",
      "(CVXPY) Dec 23 06:45:46 PM: Optimizer started.\n",
      "(CVXPY) Dec 23 06:45:46 PM: MOSEK warning 950 (MSK_RES_WRN_NO_DUALIZER): No automatic dualizer is available for the specified problem.\n",
      "(CVXPY) Dec 23 06:45:46 PM: Presolve started.\n",
      "(CVXPY) Dec 23 06:45:46 PM: Linear dependency checker started.\n",
      "(CVXPY) Dec 23 06:45:46 PM: Linear dependency checker terminated.\n",
      "(CVXPY) Dec 23 06:45:46 PM: Eliminator started.\n",
      "(CVXPY) Dec 23 06:45:46 PM: Freed constraints in eliminator : 0\n",
      "(CVXPY) Dec 23 06:45:46 PM: Eliminator terminated.\n",
      "(CVXPY) Dec 23 06:45:46 PM: Eliminator started.\n",
      "(CVXPY) Dec 23 06:45:46 PM: Freed constraints in eliminator : 0\n",
      "(CVXPY) Dec 23 06:45:46 PM: Eliminator terminated.\n",
      "(CVXPY) Dec 23 06:45:46 PM: Eliminator - tries                  : 2                 time                   : 0.00            \n",
      "(CVXPY) Dec 23 06:45:46 PM: Lin. dep.  - tries                  : 1                 time                   : 0.00            \n",
      "(CVXPY) Dec 23 06:45:46 PM: Lin. dep.  - primal attempts        : 1                 successes              : 1               \n",
      "(CVXPY) Dec 23 06:45:46 PM: Lin. dep.  - dual attempts          : 0                 successes              : 0               \n",
      "(CVXPY) Dec 23 06:45:46 PM: Lin. dep.  - primal deps.           : 0                 dual deps.             : 0               \n",
      "(CVXPY) Dec 23 06:45:46 PM: Presolve terminated. Time: 0.02    \n",
      "(CVXPY) Dec 23 06:45:46 PM: GP based matrix reordering started.\n",
      "(CVXPY) Dec 23 06:45:46 PM: GP based matrix reordering terminated.\n",
      "(CVXPY) Dec 23 06:45:46 PM: Optimizer  - threads                : 32              \n",
      "(CVXPY) Dec 23 06:45:46 PM: Optimizer  - solved problem         : the primal      \n",
      "(CVXPY) Dec 23 06:45:46 PM: Optimizer  - Constraints            : 1225            \n",
      "(CVXPY) Dec 23 06:45:46 PM: Optimizer  - Cones                  : 1               \n",
      "(CVXPY) Dec 23 06:45:46 PM: Optimizer  - Scalar variables       : 129               conic                  : 129             \n",
      "(CVXPY) Dec 23 06:45:46 PM: Optimizer  - Semi-definite variables: 1                 scalarized             : 1225            \n",
      "(CVXPY) Dec 23 06:45:46 PM: Factor     - setup time             : 0.05            \n",
      "(CVXPY) Dec 23 06:45:46 PM: Factor     - dense det. time        : 0.02              GP order time          : 0.00            \n",
      "(CVXPY) Dec 23 06:45:46 PM: Factor     - nonzeros before factor : 7.51e+05          after factor           : 7.51e+05        \n",
      "(CVXPY) Dec 23 06:45:46 PM: Factor     - dense dim.             : 0                 flops                  : 8.13e+08        \n",
      "(CVXPY) Dec 23 06:45:46 PM: Factor     - GP saved nzs           : 0                 GP saved flops         : 1.89e+08        \n",
      "(CVXPY) Dec 23 06:45:46 PM: ITE PFEAS    DFEAS    GFEAS    PRSTATUS   POBJ              DOBJ              MU       TIME  \n",
      "(CVXPY) Dec 23 06:45:46 PM: 0   0.0e+00  1.0e+00  1.0e+00  0.00e+00   -0.000000000e+00  -0.000000000e+00  1.0e+00  0.08  \n",
      "(CVXPY) Dec 23 06:45:46 PM: 1   4.4e-16  1.8e-01  6.5e-02  1.02e+00   2.100328139e+00   2.144637633e+00   1.8e-01  0.12  \n",
      "(CVXPY) Dec 23 06:45:46 PM: 2   2.7e-15  3.1e-02  1.4e-03  1.22e+00   4.393233105e+00   4.415027084e+00   3.1e-02  0.15  \n",
      "(CVXPY) Dec 23 06:45:46 PM: 3   2.1e-14  4.9e-03  2.3e-04  1.38e+00   4.786919220e+00   4.787901344e+00   4.9e-03  0.18  \n",
      "(CVXPY) Dec 23 06:45:46 PM: 4   7.2e-13  3.0e-03  1.0e-04  1.17e+00   4.814479356e+00   4.815063893e+00   3.0e-03  0.20  \n",
      "(CVXPY) Dec 23 06:45:46 PM: 5   6.1e-13  6.7e-05  1.7e-07  1.07e+00   4.850925251e+00   4.850957729e+00   6.7e-05  0.23  \n",
      "(CVXPY) Dec 23 06:45:46 PM: 6   8.1e-12  5.9e-06  7.9e-09  1.01e+00   4.851633696e+00   4.851635308e+00   5.9e-06  0.26  \n",
      "(CVXPY) Dec 23 06:45:46 PM: 7   1.2e-10  1.4e-08  1.0e-12  9.82e-01   4.851703035e+00   4.851703038e+00   1.4e-08  0.29  \n",
      "(CVXPY) Dec 23 06:45:46 PM: Optimizer terminated. Time: 0.30    \n",
      "(CVXPY) Dec 23 06:45:46 PM: \n",
      "(CVXPY) Dec 23 06:45:46 PM: \n",
      "(CVXPY) Dec 23 06:45:46 PM: Interior-point solution summary\n",
      "(CVXPY) Dec 23 06:45:46 PM:   Problem status  : PRIMAL_AND_DUAL_FEASIBLE\n",
      "(CVXPY) Dec 23 06:45:46 PM:   Solution status : OPTIMAL\n",
      "(CVXPY) Dec 23 06:45:46 PM:   Primal.  obj: 4.8517030352e+00    nrm: 3e+00    Viol.  con: 7e-11    var: 0e+00    barvar: 0e+00  \n",
      "(CVXPY) Dec 23 06:45:46 PM:   Dual.    obj: 4.8517030377e+00    nrm: 2e-01    Viol.  con: 0e+00    var: 2e-09    barvar: 8e-09  \n",
      "-------------------------------------------------------------------------------\n",
      "                                    Summary                                    \n",
      "-------------------------------------------------------------------------------\n",
      "(CVXPY) Dec 23 06:45:46 PM: Problem status: optimal\n",
      "(CVXPY) Dec 23 06:45:46 PM: Optimal value: 4.852e+00\n",
      "(CVXPY) Dec 23 06:45:46 PM: Compilation took 1.168e+00 seconds\n",
      "(CVXPY) Dec 23 06:45:46 PM: Solver (including time spent in interface) took 3.545e-01 seconds\n",
      "===============================================================================\n",
      "                                     CVXPY                                     \n",
      "                                     v1.4.1                                    \n",
      "===============================================================================\n",
      "(CVXPY) Dec 23 06:45:46 PM: Your problem has 2401 variables, 197 constraints, and 0 parameters.\n",
      "(CVXPY) Dec 23 06:45:46 PM: It is compliant with the following grammars: DCP, DQCP\n",
      "(CVXPY) Dec 23 06:45:46 PM: (If you need to solve this problem multiple times, but with different data, consider using parameters.)\n",
      "(CVXPY) Dec 23 06:45:46 PM: CVXPY will first compile your problem; then, it will invoke a numerical solver to obtain a solution.\n",
      "(CVXPY) Dec 23 06:45:46 PM: Your problem is compiled with the CPP canonicalization backend.\n",
      "-------------------------------------------------------------------------------\n",
      "                                  Compilation                                  \n",
      "-------------------------------------------------------------------------------\n",
      "(CVXPY) Dec 23 06:45:46 PM: Compiling problem (target solver=MOSEK).\n",
      "(CVXPY) Dec 23 06:45:46 PM: Reduction chain: Complex2Real -> Dcp2Cone -> CvxAttr2Constr -> ConeMatrixStuffing -> MOSEK\n",
      "(CVXPY) Dec 23 06:45:46 PM: Applying reduction Complex2Real\n",
      "(CVXPY) Dec 23 06:45:46 PM: Applying reduction Dcp2Cone\n",
      "(CVXPY) Dec 23 06:45:46 PM: Applying reduction CvxAttr2Constr\n",
      "(CVXPY) Dec 23 06:45:46 PM: Applying reduction ConeMatrixStuffing\n",
      "(CVXPY) Dec 23 06:45:47 PM: Applying reduction MOSEK\n",
      "(CVXPY) Dec 23 06:45:47 PM: Finished problem compilation (took 9.239e-01 seconds).\n",
      "-------------------------------------------------------------------------------\n",
      "                                Numerical solver                               \n",
      "-------------------------------------------------------------------------------\n",
      "(CVXPY) Dec 23 06:45:47 PM: Invoking solver MOSEK  to obtain a solution.\n",
      "\n",
      "\n",
      "(CVXPY) Dec 23 06:45:47 PM: Problem\n",
      "(CVXPY) Dec 23 06:45:47 PM:   Name                   :                 \n",
      "(CVXPY) Dec 23 06:45:47 PM:   Objective sense        : maximize        \n",
      "(CVXPY) Dec 23 06:45:47 PM:   Type                   : CONIC (conic optimization problem)\n",
      "(CVXPY) Dec 23 06:45:47 PM:   Constraints            : 1225            \n",
      "(CVXPY) Dec 23 06:45:47 PM:   Affine conic cons.     : 0               \n",
      "(CVXPY) Dec 23 06:45:47 PM:   Disjunctive cons.      : 0               \n",
      "(CVXPY) Dec 23 06:45:47 PM:   Cones                  : 0               \n",
      "(CVXPY) Dec 23 06:45:47 PM:   Scalar variables       : 392             \n",
      "(CVXPY) Dec 23 06:45:47 PM:   Matrix variables       : 1 (scalarized: 1225)\n",
      "(CVXPY) Dec 23 06:45:47 PM:   Integer variables      : 0               \n",
      "(CVXPY) Dec 23 06:45:47 PM: \n",
      "(CVXPY) Dec 23 06:45:47 PM: Optimizer started.\n",
      "(CVXPY) Dec 23 06:45:47 PM: MOSEK warning 950 (MSK_RES_WRN_NO_DUALIZER): No automatic dualizer is available for the specified problem.\n",
      "(CVXPY) Dec 23 06:45:47 PM: Presolve started.\n",
      "(CVXPY) Dec 23 06:45:47 PM: Linear dependency checker started.\n",
      "(CVXPY) Dec 23 06:45:47 PM: Linear dependency checker terminated.\n",
      "(CVXPY) Dec 23 06:45:47 PM: Eliminator started.\n",
      "(CVXPY) Dec 23 06:45:47 PM: Freed constraints in eliminator : 0\n",
      "(CVXPY) Dec 23 06:45:47 PM: Eliminator terminated.\n",
      "(CVXPY) Dec 23 06:45:47 PM: Eliminator started.\n",
      "(CVXPY) Dec 23 06:45:47 PM: Freed constraints in eliminator : 0\n",
      "(CVXPY) Dec 23 06:45:47 PM: Eliminator terminated.\n",
      "(CVXPY) Dec 23 06:45:47 PM: Eliminator - tries                  : 2                 time                   : 0.00            \n",
      "(CVXPY) Dec 23 06:45:47 PM: Lin. dep.  - tries                  : 1                 time                   : 0.00            \n",
      "(CVXPY) Dec 23 06:45:47 PM: Lin. dep.  - primal attempts        : 1                 successes              : 1               \n",
      "(CVXPY) Dec 23 06:45:47 PM: Lin. dep.  - dual attempts          : 0                 successes              : 0               \n",
      "(CVXPY) Dec 23 06:45:47 PM: Lin. dep.  - primal deps.           : 0                 dual deps.             : 0               \n",
      "(CVXPY) Dec 23 06:45:47 PM: Presolve terminated. Time: 0.02    \n",
      "(CVXPY) Dec 23 06:45:47 PM: GP based matrix reordering started.\n",
      "(CVXPY) Dec 23 06:45:47 PM: GP based matrix reordering terminated.\n",
      "(CVXPY) Dec 23 06:45:47 PM: Optimizer  - threads                : 32              \n",
      "(CVXPY) Dec 23 06:45:47 PM: Optimizer  - solved problem         : the primal      \n",
      "(CVXPY) Dec 23 06:45:47 PM: Optimizer  - Constraints            : 1225            \n",
      "(CVXPY) Dec 23 06:45:47 PM: Optimizer  - Cones                  : 1               \n",
      "(CVXPY) Dec 23 06:45:47 PM: Optimizer  - Scalar variables       : 129               conic                  : 129             \n",
      "(CVXPY) Dec 23 06:45:47 PM: Optimizer  - Semi-definite variables: 1                 scalarized             : 1225            \n",
      "(CVXPY) Dec 23 06:45:47 PM: Factor     - setup time             : 0.05            \n",
      "(CVXPY) Dec 23 06:45:47 PM: Factor     - dense det. time        : 0.03              GP order time          : 0.00            \n",
      "(CVXPY) Dec 23 06:45:47 PM: Factor     - nonzeros before factor : 7.51e+05          after factor           : 7.51e+05        \n",
      "(CVXPY) Dec 23 06:45:47 PM: Factor     - dense dim.             : 0                 flops                  : 8.13e+08        \n",
      "(CVXPY) Dec 23 06:45:47 PM: Factor     - GP saved nzs           : 0                 GP saved flops         : 1.89e+08        \n",
      "(CVXPY) Dec 23 06:45:47 PM: ITE PFEAS    DFEAS    GFEAS    PRSTATUS   POBJ              DOBJ              MU       TIME  \n",
      "(CVXPY) Dec 23 06:45:47 PM: 0   4.3e+02  1.0e+00  1.0e+00  0.00e+00   -0.000000000e+00  -0.000000000e+00  1.0e+00  0.09  \n",
      "(CVXPY) Dec 23 06:45:47 PM: 1   7.0e+01  1.6e-01  3.8e-01  -9.98e-01  -1.529961681e+01  -1.967866890e+01  1.6e-01  0.13  \n",
      "(CVXPY) Dec 23 06:45:47 PM: 2   9.2e-01  2.1e-03  3.8e-02  -9.92e-01  -1.176469726e+03  -1.490323021e+03  2.1e-03  0.15  \n",
      "(CVXPY) Dec 23 06:45:47 PM: 3   1.1e-01  2.4e-04  1.2e-03  -3.28e-01  -8.245373065e+02  -8.498947466e+02  2.4e-04  0.17  \n",
      "(CVXPY) Dec 23 06:45:47 PM: 4   9.3e-03  2.1e-05  1.4e-05  1.65e+00   -3.332281287e+01  -3.374079620e+01  2.1e-05  0.21  \n",
      "(CVXPY) Dec 23 06:45:47 PM: 5   1.3e-03  3.0e-06  8.1e-07  1.42e+00   2.352792372e+01   2.345507595e+01   3.0e-06  0.24  \n",
      "(CVXPY) Dec 23 06:45:47 PM: 6   2.1e-04  4.8e-07  7.2e-08  9.94e-01   2.478973531e+01   2.476756908e+01   4.8e-07  0.27  \n",
      "(CVXPY) Dec 23 06:45:47 PM: 7   2.4e-05  5.5e-08  2.0e-09  9.80e-01   2.569124481e+01   2.568988172e+01   5.5e-08  0.31  \n",
      "(CVXPY) Dec 23 06:45:48 PM: 8   3.8e-06  8.7e-09  3.3e-10  5.40e-01   2.583683515e+01   2.583540209e+01   8.7e-09  0.34  \n",
      "(CVXPY) Dec 23 06:45:48 PM: 9   1.5e-06  3.4e-09  1.2e-10  5.02e-02   2.587738949e+01   2.587608507e+01   3.4e-09  0.37  \n",
      "(CVXPY) Dec 23 06:45:48 PM: 10  2.1e-07  4.9e-10  1.3e-11  1.59e-01   2.592709428e+01   2.592638039e+01   4.9e-10  0.41  \n",
      "(CVXPY) Dec 23 06:45:48 PM: 11  4.0e-08  9.3e-11  2.2e-12  5.15e-02   2.596372453e+01   2.596318512e+01   9.3e-11  0.44  \n",
      "(CVXPY) Dec 23 06:45:48 PM: 12  8.6e-09  2.0e-11  3.8e-13  2.23e-01   2.598227615e+01   2.598191031e+01   2.0e-11  0.47  \n",
      "(CVXPY) Dec 23 06:45:48 PM: 13  2.9e-09  6.7e-12  1.2e-13  2.66e-01   2.599223468e+01   2.599193184e+01   6.7e-12  0.50  \n",
      "(CVXPY) Dec 23 06:45:48 PM: 14  1.1e-09  2.5e-12  3.5e-14  4.81e-01   2.599684895e+01   2.599665543e+01   2.5e-12  0.54  \n",
      "(CVXPY) Dec 23 06:45:48 PM: 15  3.6e-10  8.5e-13  1.1e-14  3.24e-01   2.600200476e+01   2.600183426e+01   8.5e-13  0.57  \n",
      "(CVXPY) Dec 23 06:45:48 PM: 16  3.6e-10  8.5e-13  1.1e-14  3.24e-01   2.600200476e+01   2.600183426e+01   8.5e-13  0.61  \n",
      "(CVXPY) Dec 23 06:45:48 PM: 17  3.6e-10  8.5e-13  1.1e-14  3.24e-01   2.600200476e+01   2.600183426e+01   8.5e-13  0.66  \n",
      "(CVXPY) Dec 23 06:45:48 PM: Optimizer terminated. Time: 0.72    \n",
      "(CVXPY) Dec 23 06:45:48 PM: \n",
      "(CVXPY) Dec 23 06:45:48 PM: \n",
      "(CVXPY) Dec 23 06:45:48 PM: Interior-point solution summary\n",
      "(CVXPY) Dec 23 06:45:48 PM:   Problem status  : PRIMAL_AND_DUAL_FEASIBLE\n",
      "(CVXPY) Dec 23 06:45:48 PM:   Solution status : OPTIMAL\n",
      "(CVXPY) Dec 23 06:45:48 PM:   Primal.  obj: 2.6002004757e+01    nrm: 2e+05    Viol.  con: 6e-06    var: 0e+00    barvar: 0e+00  \n",
      "(CVXPY) Dec 23 06:45:48 PM:   Dual.    obj: 2.6001834257e+01    nrm: 4e-01    Viol.  con: 0e+00    var: 5e-09    barvar: 1e-08  \n",
      "-------------------------------------------------------------------------------\n",
      "                                    Summary                                    \n",
      "-------------------------------------------------------------------------------\n",
      "(CVXPY) Dec 23 06:45:48 PM: Problem status: optimal\n",
      "(CVXPY) Dec 23 06:45:48 PM: Optimal value: 2.600e+01\n",
      "(CVXPY) Dec 23 06:45:48 PM: Compilation took 9.239e-01 seconds\n",
      "(CVXPY) Dec 23 06:45:48 PM: Solver (including time spent in interface) took 7.744e-01 seconds\n"
     ]
    }
   ],
   "source": [
    "X = iterative_phaselift(A, y, 2, 0.001)"
   ]
  },
  {
   "cell_type": "code",
   "execution_count": 183,
   "metadata": {},
   "outputs": [],
   "source": [
    "# Get the eigenvector corresponding to the largest eigenvalue\n",
    "S, V = LA.eigh(X)\n",
    "largest_eigenvector = V[:, -1] * np.sqrt(S[-1])\n",
    "\n",
    "# Reshape the eigenvector to the original image size\n",
    "reconstructed_image = np.abs(np.reshape(largest_eigenvector, example_image_resized.shape))\n",
    "\n",
    "reconstructed_image_phaselift = find_optimal_shift(example_image_resized, reconstructed_image)"
   ]
  },
  {
   "cell_type": "code",
   "execution_count": 184,
   "metadata": {},
   "outputs": [
    {
     "data": {
      "image/png": "[encoded data removed]",
      "text/plain": [
       "<Figure size 1000x500 with 2 Axes>"
      ]
     },
     "metadata": {},
     "output_type": "display_data"
    },
    {
     "name": "stdout",
     "output_type": "stream",
     "text": [
      "Correlation between the original image and reconstruction: 0.6957919561798721\n",
      "MSE between the original image and reconstruction: 0.04367164684181054\n",
      "PSNR between the original image and reconstruction: 13.598004306839844\n",
      "SSIM between the original image and reconstruction: 0.5666744448293233\n"
     ]
    }
   ],
   "source": [
    "compare_images(example_image_resized, reconstructed_image_phaselift, \"PhaseLift\")"
   ]
  },
  {
   "cell_type": "markdown",
   "metadata": {},
   "source": [
    "phasecut"
   ]
  },
  {
   "cell_type": "code",
   "execution_count": 185,
   "metadata": {},
   "outputs": [],
   "source": [
    "def phasecut(b, A_n):\n",
    "    m = b.shape[0]\n",
    "    X = cp.Variable((m,m), hermitian=True)\n",
    "    M = np.diag(b.flatten()) @ (np.identity(A_n.shape[0]) - A_n @ LA.pinv(A_n)) @ np.diag(b.flatten())\n",
    "\n",
    "    obj = cp.real(cp.trace(X @ M))\n",
    "    constr = [X >> 0]\n",
    "    constr += [cp.diag(X) == np.ones(m,)]\n",
    "    prob = cp.Problem(cp.Minimize(obj), constr)\n",
    "    prob.solve(solver=cp.MOSEK, verbose=True, mosek_params={'MSK_IPAR_INTPNT_SOLVE_FORM': 'MSK_SOLVE_DUAL'})\n",
    "    \n",
    "    return X.value"
   ]
  },
  {
   "cell_type": "code",
   "execution_count": 186,
   "metadata": {},
   "outputs": [
    {
     "name": "stdout",
     "output_type": "stream",
     "text": [
      "===============================================================================\n",
      "                                     CVXPY                                     \n",
      "                                     v1.4.1                                    \n",
      "===============================================================================\n",
      "(CVXPY) Dec 23 06:45:48 PM: Your problem has 38416 variables, 2 constraints, and 0 parameters.\n",
      "(CVXPY) Dec 23 06:45:48 PM: It is compliant with the following grammars: DCP, DQCP\n",
      "(CVXPY) Dec 23 06:45:48 PM: (If you need to solve this problem multiple times, but with different data, consider using parameters.)\n",
      "(CVXPY) Dec 23 06:45:48 PM: CVXPY will first compile your problem; then, it will invoke a numerical solver to obtain a solution.\n",
      "(CVXPY) Dec 23 06:45:48 PM: Your problem is compiled with the CPP canonicalization backend.\n",
      "-------------------------------------------------------------------------------\n",
      "                                  Compilation                                  \n",
      "-------------------------------------------------------------------------------\n",
      "(CVXPY) Dec 23 06:45:48 PM: Compiling problem (target solver=MOSEK).\n",
      "(CVXPY) Dec 23 06:45:48 PM: Reduction chain: Complex2Real -> Dcp2Cone -> CvxAttr2Constr -> ConeMatrixStuffing -> MOSEK\n",
      "(CVXPY) Dec 23 06:45:48 PM: Applying reduction Complex2Real\n",
      "(CVXPY) Dec 23 06:45:48 PM: Applying reduction Dcp2Cone\n",
      "(CVXPY) Dec 23 06:45:48 PM: Applying reduction CvxAttr2Constr\n",
      "(CVXPY) Dec 23 06:45:48 PM: Applying reduction ConeMatrixStuffing\n",
      "(CVXPY) Dec 23 06:45:50 PM: Applying reduction MOSEK\n",
      "(CVXPY) Dec 23 06:46:06 PM: Finished problem compilation (took 1.735e+01 seconds).\n",
      "-------------------------------------------------------------------------------\n",
      "                                Numerical solver                               \n",
      "-------------------------------------------------------------------------------\n",
      "(CVXPY) Dec 23 06:46:06 PM: Invoking solver MOSEK  to obtain a solution.\n",
      "\n",
      "\n",
      "(CVXPY) Dec 23 06:46:06 PM: Problem\n",
      "(CVXPY) Dec 23 06:46:06 PM:   Name                   :                 \n",
      "(CVXPY) Dec 23 06:46:06 PM:   Objective sense        : maximize        \n",
      "(CVXPY) Dec 23 06:46:06 PM:   Type                   : CONIC (conic optimization problem)\n",
      "(CVXPY) Dec 23 06:46:06 PM:   Constraints            : 38416           \n",
      "(CVXPY) Dec 23 06:46:06 PM:   Affine conic cons.     : 0               \n",
      "(CVXPY) Dec 23 06:46:06 PM:   Disjunctive cons.      : 0               \n",
      "(CVXPY) Dec 23 06:46:06 PM:   Cones                  : 0               \n",
      "(CVXPY) Dec 23 06:46:06 PM:   Scalar variables       : 392             \n",
      "(CVXPY) Dec 23 06:46:06 PM:   Matrix variables       : 1 (scalarized: 77028)\n",
      "(CVXPY) Dec 23 06:46:06 PM:   Integer variables      : 0               \n",
      "(CVXPY) Dec 23 06:46:06 PM: \n",
      "(CVXPY) Dec 23 06:46:06 PM: Optimizer started.\n",
      "(CVXPY) Dec 23 06:46:06 PM: MOSEK warning 950 (MSK_RES_WRN_NO_DUALIZER): No automatic dualizer is available for the specified problem.\n",
      "(CVXPY) Dec 23 06:46:06 PM: Presolve started.\n",
      "(CVXPY) Dec 23 06:46:06 PM: Linear dependency checker started.\n",
      "(CVXPY) Dec 23 06:46:06 PM: Linear dependency checker terminated.\n",
      "(CVXPY) Dec 23 06:46:06 PM: Eliminator started.\n",
      "(CVXPY) Dec 23 06:46:06 PM: Freed constraints in eliminator : 0\n",
      "(CVXPY) Dec 23 06:46:06 PM: Eliminator terminated.\n",
      "(CVXPY) Dec 23 06:46:06 PM: Eliminator - tries                  : 1                 time                   : 0.00            \n",
      "(CVXPY) Dec 23 06:46:06 PM: Lin. dep.  - tries                  : 1                 time                   : 0.01            \n",
      "(CVXPY) Dec 23 06:46:06 PM: Lin. dep.  - primal attempts        : 1                 successes              : 1               \n",
      "(CVXPY) Dec 23 06:46:06 PM: Lin. dep.  - dual attempts          : 0                 successes              : 0               \n",
      "(CVXPY) Dec 23 06:46:06 PM: Lin. dep.  - primal deps.           : 0                 dual deps.             : 0               \n",
      "(CVXPY) Dec 23 06:46:06 PM: Presolve terminated. Time: 0.01    \n",
      "(CVXPY) Dec 23 06:46:44 PM: GP based matrix reordering started.\n",
      "(CVXPY) Dec 23 06:46:44 PM: GP based matrix reordering terminated.\n",
      "(CVXPY) Dec 23 06:46:55 PM: Optimizer  - threads                : 32              \n",
      "(CVXPY) Dec 23 06:46:55 PM: Optimizer  - solved problem         : the primal      \n",
      "(CVXPY) Dec 23 06:46:55 PM: Optimizer  - Constraints            : 38416           \n",
      "(CVXPY) Dec 23 06:46:55 PM: Optimizer  - Cones                  : 1               \n",
      "(CVXPY) Dec 23 06:46:55 PM: Optimizer  - Scalar variables       : 197               conic                  : 197             \n",
      "(CVXPY) Dec 23 06:46:55 PM: Optimizer  - Semi-definite variables: 1                 scalarized             : 77028           \n",
      "(CVXPY) Dec 23 06:46:55 PM: Factor     - setup time             : 48.71           \n",
      "(CVXPY) Dec 23 06:46:55 PM: Factor     - dense det. time        : 28.21             GP order time          : 0.01            \n",
      "(CVXPY) Dec 23 06:46:55 PM: Factor     - nonzeros before factor : 7.38e+08          after factor           : 7.38e+08        \n",
      "(CVXPY) Dec 23 06:46:55 PM: Factor     - dense dim.             : 0                 flops                  : 1.89e+13        \n",
      "(CVXPY) Dec 23 06:46:55 PM: ITE PFEAS    DFEAS    GFEAS    PRSTATUS   POBJ              DOBJ              MU       TIME  \n",
      "(CVXPY) Dec 23 06:46:55 PM: 0   2.0e+00  1.0e+00  1.0e+00  0.00e+00   -0.000000000e+00  -0.000000000e+00  1.0e+00  48.79 \n",
      "(CVXPY) Dec 23 06:47:31 PM: 1   1.7e-01  8.4e-02  2.6e-02  1.04e+00   3.248692738e+00   3.236004757e+00   8.4e-02  85.41 \n",
      "(CVXPY) Dec 23 06:48:05 PM: 2   2.2e-02  1.1e-02  1.1e-03  9.98e-01   2.413020422e+00   2.414032025e+00   1.1e-02  118.89\n",
      "(CVXPY) Dec 23 06:48:31 PM: 3   1.9e-02  9.7e-03  9.1e-04  9.92e-01   2.065838606e+00   2.066706402e+00   9.7e-03  145.30\n",
      "(CVXPY) Dec 23 06:49:01 PM: 4   2.7e-03  1.4e-03  4.6e-05  9.93e-01   3.860535991e-01   3.862951720e-01   1.4e-03  175.17\n",
      "(CVXPY) Dec 23 06:49:26 PM: 5   2.4e-03  1.2e-03  3.9e-05  9.98e-01   3.385005709e-01   3.387076553e-01   1.2e-03  200.53\n",
      "(CVXPY) Dec 23 06:49:54 PM: 6   3.3e-04  1.7e-04  2.1e-06  9.98e-01   3.971969245e-02   3.973247498e-02   1.7e-04  228.16\n",
      "(CVXPY) Dec 23 06:50:20 PM: 7   1.9e-04  9.6e-05  9.1e-07  1.00e+00   2.295833222e-02   2.296422471e-02   9.6e-05  254.55\n",
      "(CVXPY) Dec 23 06:50:51 PM: 8   5.3e-06  2.6e-06  2.0e-09  1.00e+00   6.082855067e-04   6.104010066e-04   2.6e-06  285.40\n",
      "(CVXPY) Dec 23 06:51:22 PM: 9   7.8e-07  3.9e-07  1.8e-10  1.00e+00   1.084654539e-04   1.086526545e-04   3.9e-07  316.14\n",
      "(CVXPY) Dec 23 06:51:53 PM: 10  1.3e-07  6.5e-08  1.4e-11  1.00e+00   1.740755805e-05   1.742945706e-05   6.5e-08  347.54\n",
      "(CVXPY) Dec 23 06:52:24 PM: 11  1.3e-08  6.6e-09  4.4e-13  1.00e+00   1.847929228e-06   1.850047877e-06   6.6e-09  378.36\n",
      "(CVXPY) Dec 23 06:52:25 PM: Optimizer terminated. Time: 378.69  \n",
      "(CVXPY) Dec 23 06:52:25 PM: \n",
      "(CVXPY) Dec 23 06:52:25 PM: \n",
      "(CVXPY) Dec 23 06:52:25 PM: Interior-point solution summary\n",
      "(CVXPY) Dec 23 06:52:25 PM:   Problem status  : PRIMAL_AND_DUAL_FEASIBLE\n",
      "(CVXPY) Dec 23 06:52:25 PM:   Solution status : OPTIMAL\n",
      "(CVXPY) Dec 23 06:52:25 PM:   Primal.  obj: 1.8479292284e-06    nrm: 2e-01    Viol.  con: 1e-08    var: 0e+00    barvar: 0e+00  \n",
      "(CVXPY) Dec 23 06:52:25 PM:   Dual.    obj: 1.8500478679e-06    nrm: 1e+00    Viol.  con: 0e+00    var: 7e-09    barvar: 7e-09  \n",
      "-------------------------------------------------------------------------------\n",
      "                                    Summary                                    \n",
      "-------------------------------------------------------------------------------\n",
      "(CVXPY) Dec 23 06:52:25 PM: Problem status: optimal\n",
      "(CVXPY) Dec 23 06:52:25 PM: Optimal value: 1.850e-06\n",
      "(CVXPY) Dec 23 06:52:25 PM: Compilation took 1.735e+01 seconds\n",
      "(CVXPY) Dec 23 06:52:25 PM: Solver (including time spent in interface) took 3.789e+02 seconds\n"
     ]
    }
   ],
   "source": [
    "b = np.sqrt(y)\n",
    "X = phasecut(b, A)"
   ]
  },
  {
   "cell_type": "code",
   "execution_count": 187,
   "metadata": {},
   "outputs": [],
   "source": [
    "# Get the eigenvector corresponding to the largest eigenvalue\n",
    "S, V = LA.eigh(X)\n",
    "largest_eigenvector = V[:, -1] / np.abs(V[:, -1])\n",
    "\n",
    "# Reshape the eigenvector to the original image size\n",
    "reconstructed_image = b.flatten() * largest_eigenvector\n",
    "reconstructed_image = LA.pinv(A) @ reconstructed_image\n",
    "reconstructed_image = np.abs(np.reshape(reconstructed_image, np.array(example_image_resized.shape)))\n",
    "\n",
    "reconstructed_image_phasecut = find_optimal_shift(example_image_resized, reconstructed_image)"
   ]
  },
  {
   "cell_type": "code",
   "execution_count": 188,
   "metadata": {},
   "outputs": [
    {
     "data": {
      "image/png": "[encoded data removed]",
      "text/plain": [
       "<Figure size 1000x500 with 2 Axes>"
      ]
     },
     "metadata": {},
     "output_type": "display_data"
    },
    {
     "name": "stdout",
     "output_type": "stream",
     "text": [
      "Correlation between the original image and reconstruction: 0.5443018626235596\n",
      "MSE between the original image and reconstruction: 0.06104020628542044\n",
      "PSNR between the original image and reconstruction: 12.143840073521863\n",
      "SSIM between the original image and reconstruction: 0.47408495212575036\n"
     ]
    }
   ],
   "source": [
    "compare_images(example_image_resized, reconstructed_image_phasecut, \"PhaseCut\")"
   ]
  },
  {
   "cell_type": "markdown",
   "metadata": {},
   "source": [
    "phasemax"
   ]
  },
  {
   "cell_type": "code",
   "execution_count": 199,
   "metadata": {},
   "outputs": [],
   "source": [
    "def phasemax(b, A_n):\n",
    "    m, n = A_n.shape\n",
    "    xhat = np.random.rand(n)\n",
    "    \n",
    "    for _ in range(80):\n",
    "        x = cp.Variable(n, complex=True)\n",
    "        \n",
    "        constr = [cp.abs(A_n @ x) <= b.flatten()]\n",
    "        obj = cp.real(xhat.conj().T @ x)\n",
    "        prob = cp.Problem(cp.Maximize(obj), constr)\n",
    "        prob.solve()\n",
    "\n",
    "        xhat = x.value\n",
    "        \n",
    "    return xhat"
   ]
  },
  {
   "cell_type": "code",
   "execution_count": 200,
   "metadata": {},
   "outputs": [],
   "source": [
    "b = np.sqrt(y)\n",
    "X = phasemax(b, A)"
   ]
  },
  {
   "cell_type": "code",
   "execution_count": 201,
   "metadata": {},
   "outputs": [],
   "source": [
    "reconstructed_image = np.abs(np.reshape(X, np.array(example_image_resized.shape)))\n",
    "\n",
    "reconstructed_image_phasemax = find_optimal_shift(example_image_resized, reconstructed_image)"
   ]
  },
  {
   "cell_type": "code",
   "execution_count": 202,
   "metadata": {},
   "outputs": [
    {
     "data": {
      "image/png": "[encoded data removed]",
      "text/plain": [
       "<Figure size 1000x500 with 2 Axes>"
      ]
     },
     "metadata": {},
     "output_type": "display_data"
    },
    {
     "name": "stdout",
     "output_type": "stream",
     "text": [
      "Correlation between the original image and reconstruction: 0.8871872105101097\n",
      "MSE between the original image and reconstruction: 0.017579181617202056\n",
      "PSNR between the original image and reconstruction: 17.550013469759108\n",
      "SSIM between the original image and reconstruction: 0.872831572042791\n"
     ]
    }
   ],
   "source": [
    "compare_images(example_image_resized, reconstructed_image_phasemax, \"PhaseMax\")"
   ]
  },
  {
   "cell_type": "markdown",
   "metadata": {},
   "source": [
    "phasemax (dual)"
   ]
  },
  {
   "cell_type": "code",
   "execution_count": 193,
   "metadata": {},
   "outputs": [],
   "source": [
    "def dual_phasemax(b, A_n):\n",
    "    m, n = A_n.shape\n",
    "    xhat = np.random.rand(n)\n",
    "    \n",
    "    for _ in range(80):\n",
    "        z = cp.Variable(m, complex=True)\n",
    "        B = np.diag(b.flatten())\n",
    "        constr = [xhat == A_n.conj().T @ LA.inv(B) @ z]\n",
    "        obj = cp.norm(z, 1)\n",
    "        prob = cp.Problem(cp.Minimize(obj), constr)\n",
    "        prob.solve()\n",
    "        \n",
    "        xhat = np.abs(LA.pinv(A_n) @ polar_convert(b.flatten(), np.angle(z.value)))\n",
    "    return xhat"
   ]
  },
  {
   "cell_type": "code",
   "execution_count": 194,
   "metadata": {},
   "outputs": [],
   "source": [
    "b = np.sqrt(y)\n",
    "X = dual_phasemax(b, A)"
   ]
  },
  {
   "cell_type": "code",
   "execution_count": 195,
   "metadata": {},
   "outputs": [],
   "source": [
    "reconstructed_image = np.abs(np.reshape(X, np.array(example_image_resized.shape)))\n",
    "\n",
    "reconstructed_image_phasemaxdual = find_optimal_shift(example_image_resized, reconstructed_image)"
   ]
  },
  {
   "cell_type": "code",
   "execution_count": 196,
   "metadata": {},
   "outputs": [
    {
     "data": {
      "image/png": "[encoded data removed]",
      "text/plain": [
       "<Figure size 1000x500 with 2 Axes>"
      ]
     },
     "metadata": {},
     "output_type": "display_data"
    },
    {
     "name": "stdout",
     "output_type": "stream",
     "text": [
      "Correlation between the original image and reconstruction: 0.6320396874173776\n",
      "MSE between the original image and reconstruction: 0.05490268092000779\n",
      "PSNR between the original image and reconstruction: 12.604064482577677\n",
      "SSIM between the original image and reconstruction: 0.6262754069555121\n"
     ]
    }
   ],
   "source": [
    "compare_images(example_image_resized, reconstructed_image_phasemaxdual, \"PhaseMax (Dual)\")"
   ]
  },
  {
   "cell_type": "markdown",
   "metadata": {},
   "source": [
    "compare different methods"
   ]
  },
  {
   "cell_type": "code",
   "execution_count": 197,
   "metadata": {},
   "outputs": [],
   "source": [
    "def compare_different_methods(**kwargs):\n",
    "    plt.figure(figsize=(15, 4))\n",
    "    plt.suptitle('Qualitative Comparison for Different Methods')  # Added suptitle\n",
    "    N = len(kwargs)\n",
    "    for i, (method, image) in enumerate(kwargs.items()):\n",
    "        plt.subplot(1, N, i+1), plt.imshow(image, cmap='gray'), plt.title(method)\n",
    "    plt.show()"
   ]
  },
  {
   "cell_type": "code",
   "execution_count": 203,
   "metadata": {},
   "outputs": [
    {
     "data": {
      "image/png": "[encoded data removed]",
      "text/plain": [
       "<Figure size 1500x400 with 4 Axes>"
      ]
     },
     "metadata": {},
     "output_type": "display_data"
    }
   ],
   "source": [
    "methodname_image_dict = {\n",
    "    \"PhaseLift\": reconstructed_image_phaselift,\n",
    "    \"PhaseCut\": reconstructed_image_phasecut,\n",
    "    \"PhaseMax\": reconstructed_image_phasemax,\n",
    "    \"PhaseMax (Dual)\": reconstructed_image_phasemaxdual,\n",
    "}\n",
    "\n",
    "compare_different_methods(**methodname_image_dict)"
   ]
  }
 ],
 "metadata": {
  "kernelspec": {
   "display_name": "Python 3 (ipykernel)",
   "language": "python",
   "name": "python3"
  },
  "orig_nbformat": 4
 },
 "nbformat": 4,
 "nbformat_minor": 2
}
